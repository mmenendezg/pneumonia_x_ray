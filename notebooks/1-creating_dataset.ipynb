{
 "cells": [
  {
   "attachments": {},
   "cell_type": "markdown",
   "metadata": {},
   "source": [
    "# Uploading the `Chest X-Ray` Dataset to Hugging Face"
   ]
  },
  {
   "attachments": {},
   "cell_type": "markdown",
   "metadata": {},
   "source": [
    "This notebook's goal is to preprocess and upload the dataset [Chest X-Ray Images](https://data.mendeley.com/datasets/rscbjbr9sj) to the **Hugging Face Hub**. \n",
    "\n",
    "There will be two version of this dataset. The first is a raw version of the images as provided by the **Guangzhou Women and Children's Medical Center** of the **University of California San Diego**. The second will be a preprocessed version of the dataset. \n",
    "\n",
    "You can also find this dataset availble in [Kaggle](https://www.kaggle.com/datasets/paultimothymooney/chest-xray-pneumonia)"
   ]
  },
  {
   "attachments": {},
   "cell_type": "markdown",
   "metadata": {},
   "source": [
    "## Setup"
   ]
  },
  {
   "attachments": {},
   "cell_type": "markdown",
   "metadata": {},
   "source": [
    "Let's first import the libraries we will use and create the constraints:"
   ]
  },
  {
   "cell_type": "code",
   "execution_count": 1,
   "metadata": {},
   "outputs": [
    {
     "name": "stderr",
     "output_type": "stream",
     "text": [
      "/Users/mmenendezg/Developer/Projects/pneumonia-xray/.venv/lib/python3.10/site-packages/tqdm/auto.py:21: TqdmWarning: IProgress not found. Please update jupyter and ipywidgets. See https://ipywidgets.readthedocs.io/en/stable/user_install.html\n",
      "  from .autonotebook import tqdm as notebook_tqdm\n"
     ]
    }
   ],
   "source": [
    "import os\n",
    "import re\n",
    "import matplotlib.pyplot as plt\n",
    "import seaborn as sns\n",
    "import numpy as np\n",
    "from PIL import Image\n",
    "\n",
    "# TensorFlow\n",
    "import tensorflow as tf\n",
    "from tensorflow import keras \n",
    "from keras import utils\n",
    "\n",
    "# Hugging Face\n",
    "import datasets\n",
    "import huggingface_hub\n"
   ]
  },
  {
   "cell_type": "code",
   "execution_count": 2,
   "metadata": {},
   "outputs": [],
   "source": [
    "RAW_DATA_PATH = \"../data/raw/pneumonia_xray/\"\n",
    "DATA_PATH = \"../data/processed/\"\n",
    "TFRECORDS_PATH = \"../data/processed/\"\n",
    "NAME_RAW_DATASET = \"mmenendezg/raw_pneumonia_x_ray\"\n",
    "NAME_DATASET = \"mmenendezg/pneumonia_x_ray\"\n",
    "AUTOTUNE = tf.data.AUTOTUNE\n",
    "IMG_SIZE = (500, 500)\n",
    "CLASSES = [\"Normal\", \"Pneumonia\"]"
   ]
  },
  {
   "attachments": {},
   "cell_type": "markdown",
   "metadata": {},
   "source": [
    "## Dataset Info"
   ]
  },
  {
   "attachments": {},
   "cell_type": "markdown",
   "metadata": {},
   "source": [
    "The dataset contains X-Ray chest images from independent patients. The images are classified into two classes:\n",
    "\n",
    ">- 0: Normal\n",
    ">- 1: Pneumonia\n",
    "\n",
    "The shape, aspect ratio and size of the images vary. There are images with 3 channels of color (i.e., RGB color), and other images that have no channel (i.e., grayscale. The only channel is implicit). It is important to take this into consideration when preprocessing the dataset.\n",
    "\n",
    "The structure of the folders of the original dataset is the following:\n",
    "\n",
    "```\n",
    "|-- pneumonia_x_ray\n",
    "   |-- train\n",
    "      |-- normal\n",
    "      |-- pneumonia\n",
    "   |-- test\n",
    "      |-- normal\n",
    "      |-- pneumonia\n",
    "```"
   ]
  },
  {
   "attachments": {},
   "cell_type": "markdown",
   "metadata": {},
   "source": [
    "## Create Raw dataset"
   ]
  },
  {
   "attachments": {},
   "cell_type": "markdown",
   "metadata": {},
   "source": [
    "The first version of the dataset will be a raw version of the dataset. This will provide more flexibility to preprocess the images according to the project needs. "
   ]
  },
  {
   "attachments": {},
   "cell_type": "markdown",
   "metadata": {},
   "source": [
    "It is important to login to Hugging Face to upload the dataset. In the code below change the token for the one provided by [Hugging Face](https://huggingface.co/settings/tokens)."
   ]
  },
  {
   "cell_type": "code",
   "execution_count": 19,
   "metadata": {},
   "outputs": [
    {
     "name": "stdout",
     "output_type": "stream",
     "text": [
      "Token will not been saved to git credential helper. Pass `add_to_git_credential=True` if you want to set the git credential as well.\n",
      "Token is valid.\n",
      "Your token has been saved to /Users/mmenendezg/.cache/huggingface/token\n",
      "Login successful\n"
     ]
    }
   ],
   "source": [
    "!huggingface-cli login --token [TOKEN]"
   ]
  },
  {
   "attachments": {},
   "cell_type": "markdown",
   "metadata": {},
   "source": [
    "The `load_dataset()` method allows us to download datasets stored in the Hugging Face Hub, or to load data stored locally. To load images from a local folder it is necessary to set `\"imagefolder\"` as the first argument, and the path of the folder containing the images in the `data_dir` argument. \n",
    "\n",
    "This will automatically identify the structure of the folders (see above) and create a `DatasetDict` containing the train and test splits, and it creates the two labels in each split."
   ]
  },
  {
   "cell_type": "code",
   "execution_count": 22,
   "metadata": {},
   "outputs": [
    {
     "name": "stderr",
     "output_type": "stream",
     "text": [
      "Resolving data files: 100%|██████████| 5232/5232 [00:00<00:00, 8402.69it/s]\n",
      "Resolving data files: 100%|██████████| 624/624 [00:00<00:00, 14825.40it/s]\n",
      "Found cached dataset imagefolder (/Users/mmenendezg/.cache/huggingface/datasets/imagefolder/default-2705360b7f09f3d9/0.0.0/37fbb85cc714a338bea574ac6c7d0b5be5aff46c1862c1989b20e0771199e93f)\n",
      "100%|██████████| 2/2 [00:00<00:00, 78.14it/s]\n"
     ]
    },
    {
     "data": {
      "text/plain": [
       "DatasetDict({\n",
       "    train: Dataset({\n",
       "        features: ['image', 'label'],\n",
       "        num_rows: 5232\n",
       "    })\n",
       "    test: Dataset({\n",
       "        features: ['image', 'label'],\n",
       "        num_rows: 624\n",
       "    })\n",
       "})"
      ]
     },
     "execution_count": 22,
     "metadata": {},
     "output_type": "execute_result"
    }
   ],
   "source": [
    "raw_dataset = datasets.load_dataset(\"imagefolder\", data_dir=RAW_DATA_PATH)\n",
    "raw_dataset"
   ]
  },
  {
   "attachments": {},
   "cell_type": "markdown",
   "metadata": {},
   "source": [
    "Once we have loaded the data, we can push the dataset to the hub:"
   ]
  },
  {
   "cell_type": "code",
   "execution_count": null,
   "metadata": {},
   "outputs": [],
   "source": [
    "raw_dataset.push_to_hub(NAME_RAW_DATASET)"
   ]
  },
  {
   "attachments": {},
   "cell_type": "markdown",
   "metadata": {},
   "source": [
    "The dataset has been successfully uploaded to the [Hub](https://huggingface.co/datasets/mmenendezg/raw_pneumonia_x_ray). We can now download the data using the same name set when pushing the dataset:"
   ]
  },
  {
   "cell_type": "code",
   "execution_count": 23,
   "metadata": {},
   "outputs": [
    {
     "name": "stderr",
     "output_type": "stream",
     "text": [
      "Found cached dataset parquet (/Users/mmenendezg/.cache/huggingface/datasets/mmenendezg___parquet/mmenendezg--raw_pneumonia_x_ray-719d20bbd0437f4e/0.0.0/2a3b91fbd88a2c90d1dbbb32b460cf621d31bd5b05b934492fdef7d8d6f236ec)\n",
      "100%|██████████| 2/2 [00:00<00:00, 85.55it/s]\n"
     ]
    },
    {
     "data": {
      "text/plain": [
       "DatasetDict({\n",
       "    train: Dataset({\n",
       "        features: ['image', 'label'],\n",
       "        num_rows: 5232\n",
       "    })\n",
       "    test: Dataset({\n",
       "        features: ['image', 'label'],\n",
       "        num_rows: 624\n",
       "    })\n",
       "})"
      ]
     },
     "execution_count": 23,
     "metadata": {},
     "output_type": "execute_result"
    }
   ],
   "source": [
    "pneumonia_x_ray = datasets.load_dataset(NAME_RAW_DATASET)\n",
    "pneumonia_x_ray"
   ]
  },
  {
   "attachments": {},
   "cell_type": "markdown",
   "metadata": {},
   "source": [
    "## Create Preprocessed Dataset"
   ]
  },
  {
   "attachments": {},
   "cell_type": "markdown",
   "metadata": {},
   "source": [
    "The raw images gives us a lot of flexibility to work with the data, but this creates some challenges when preprocessing the images to train a model. \n",
    "\n",
    "The second version of the dataset contains preprocessed images that solves the 2 main challenges of the raw data:\n",
    "\n",
    "> - It converts all images to RGB (i.e., All the images have 3 channels)\n",
    "> - It resizes them to a fixed size, and therefore, a fixed aspect ratio (1:1)"
   ]
  },
  {
   "attachments": {},
   "cell_type": "markdown",
   "metadata": {},
   "source": [
    "### Preprocess the images with TensorFlow"
   ]
  },
  {
   "attachments": {},
   "cell_type": "markdown",
   "metadata": {},
   "source": [
    "It is necessary to preprocess the images. TensorFlow offers a wide variety of methods to load and preprocess images. The method `tf.keras.utils.image_dataset_from_directory()` provides all the preprocessing we need. Additionally, it infers the labels of the images based on the structure of the folders.\n",
    "\n",
    "When resizing the images, it is able to uses different interpolation methods. For this dataset we will use the `nearest` option that uses *k-nearest neighbors* algorithm to calculate the size of every pixel. This gives as result pixel values that are integers, and we do not need to process float values higher than 1. When working with images, it asumes that if the `dtype` of the tensors are float, the values should be betweeen 0 and 1."
   ]
  },
  {
   "cell_type": "code",
   "execution_count": 3,
   "metadata": {},
   "outputs": [],
   "source": [
    "def load_dataset(path: str, shuffle: bool = False) -> tf.data.Dataset:\n",
    "    \"\"\"Loads a dataset of images from a directory.\n",
    "\n",
    "    Args:\n",
    "        path: The path to the directory containing the images.\n",
    "        shuffle: Whether to shuffle the dataset.\n",
    "\n",
    "    Returns:\n",
    "        A `tf.data.Dataset` of images and labels.\n",
    "    \"\"\"\n",
    "    dataset = utils.image_dataset_from_directory(\n",
    "        path,\n",
    "        interpolation=\"nearest\",\n",
    "        image_size=IMG_SIZE,\n",
    "        label_mode=\"int\",\n",
    "        color_mode=\"rgb\",\n",
    "        batch_size=None,\n",
    "        shuffle=shuffle,\n",
    "        class_names=[\"normal\", \"pneumonia\"],\n",
    "    )\n",
    "    return dataset\n",
    "\n",
    "\n",
    "def save_image(image_array: np.array, filepath: str):\n",
    "    \"\"\"Saves an image to a file.\n",
    "\n",
    "    Args:\n",
    "        image_array: The image array to save.\n",
    "        filepath: The path to the file to save the image to.\n",
    "\n",
    "    Returns:\n",
    "        None.\n",
    "    \"\"\"\n",
    "    image = Image.fromarray(image_array)\n",
    "    image.save(filepath)\n",
    "\n",
    "\n",
    "def save_images(dataset: tf.data.Dataset, set_type: str = \"train\"):\n",
    "    \"\"\"Saves images from a dataset to a directory.\n",
    "\n",
    "    Args:\n",
    "        dataset: A `tf.data.Dataset` of images and labels.\n",
    "        set_type: The type of dataset, either `\"train\"` or `\"test\"`.\n",
    "\n",
    "    Returns:\n",
    "        None.\n",
    "    \"\"\"\n",
    "    id_images = [0, 0]\n",
    "    classes = [\"normal\", \"pneumonia\"]\n",
    "    paths = [\n",
    "        f\"../data/processed/{set_type}/{classes[0]}\",\n",
    "        f\"../data/processed/{set_type}/{classes[1]}\",\n",
    "    ]\n",
    "    for path in paths:\n",
    "        tf.io.gfile.makedirs(path)\n",
    "\n",
    "    for idx, (image, label) in enumerate(dataset):\n",
    "        id_image = id_images[label.numpy()]\n",
    "        image_path = tf.io.gfile.join(\n",
    "            paths[label.numpy()], f\"{set_type}-{id_image}.jpeg\"\n",
    "        )\n",
    "        save_image(image.numpy(), image_path)\n",
    "        id_images[label.numpy()] += 1\n"
   ]
  },
  {
   "attachments": {},
   "cell_type": "markdown",
   "metadata": {},
   "source": [
    "Let's load the images from the raw data folder:"
   ]
  },
  {
   "cell_type": "code",
   "execution_count": 4,
   "metadata": {},
   "outputs": [
    {
     "name": "stdout",
     "output_type": "stream",
     "text": [
      "Found 5232 files belonging to 2 classes.\n",
      "Metal device set to: Apple M1 Pro\n",
      "\n",
      "systemMemory: 32.00 GB\n",
      "maxCacheSize: 10.67 GB\n",
      "\n",
      "Found 624 files belonging to 2 classes.\n"
     ]
    }
   ],
   "source": [
    "train_path = tf.io.gfile.join(RAW_DATA_PATH, \"train\")\n",
    "test_path = tf.io.gfile.join(RAW_DATA_PATH, \"test\")\n",
    "\n",
    "train_ds = load_dataset(train_path, shuffle=True)\n",
    "test_ds = load_dataset(test_path)"
   ]
  },
  {
   "attachments": {},
   "cell_type": "markdown",
   "metadata": {},
   "source": [
    "Once the images have been processed, we need to convert them to `datasets.Dataset` (Hugging Face dataset object). The `datasets` library does not provide an specific method to create a dataset from `tf.data.Dataset`. There are several ways to achieve this: using a generator, creating a dictionary, converting the dataset to a pandas dataframe, etc. In this case we will save the dataset to images in a local folder, and then we wil load the dataset using the `dataset.load_dataset()` method as above. "
   ]
  },
  {
   "cell_type": "code",
   "execution_count": 6,
   "metadata": {},
   "outputs": [],
   "source": [
    "save_images(train_ds, \"train\")\n",
    "save_images(test_ds, \"test\")"
   ]
  },
  {
   "attachments": {},
   "cell_type": "markdown",
   "metadata": {},
   "source": [
    "### Upload preprocessed dataset to Hugging Face Hub"
   ]
  },
  {
   "attachments": {},
   "cell_type": "markdown",
   "metadata": {},
   "source": [
    "It is possible to load the whole dataset in a single line of code, but for a reason I was not able to find, this causes to duplicate the images. One alternative, is to load the sets separate and then to create a `datasets.DatasetDict` object containg both sets."
   ]
  },
  {
   "cell_type": "code",
   "execution_count": 24,
   "metadata": {},
   "outputs": [],
   "source": [
    "def create_and_upload_dataset_hf():\n",
    "    \"\"\"Creates and uploads a dataset to the Hugging Face Hub.\n",
    "\n",
    "    This function creates a dataset from two directories, one for training and one for testing. \n",
    "    The dataset is then uploaded to the Hugging Face Hub.\n",
    "    \"\"\"\n",
    "    train_path = tf.io.gfile.join(DATA_PATH, \"train\")\n",
    "    test_path = tf.io.gfile.join(DATA_PATH, \"test\")\n",
    "\n",
    "    train_dataset = datasets.load_dataset(\"imagefolder\", data_dir=train_path, split=\"train\")\n",
    "    test_dataset = datasets.load_dataset(\"imagefolder\", data_dir=test_path, split=\"test\")\n",
    "    dataset = datasets.DatasetDict({\n",
    "        \"train\": train_dataset,\n",
    "        \"test\": test_dataset\n",
    "    })\n",
    "    dataset.push_to_hub(NAME_DATASET)"
   ]
  },
  {
   "cell_type": "code",
   "execution_count": 20,
   "metadata": {},
   "outputs": [
    {
     "name": "stderr",
     "output_type": "stream",
     "text": [
      "Pushing split train to the Hub.\n",
      "Creating parquet from Arrow format: 100%|██████████| 6/6 [00:00<00:00, 73.81ba/s]\n",
      "Upload 1 LFS files: 100%|██████████| 1/1 [03:19<00:00, 199.40s/it]\n",
      "Pushing dataset shards to the dataset hub: 100%|██████████| 1/1 [03:20<00:00, 200.07s/it]\n",
      "Pushing split test to the Hub.\n",
      "Creating parquet from Arrow format: 100%|██████████| 1/1 [00:00<00:00, 65.94ba/s]\n",
      "Upload 1 LFS files: 100%|██████████| 1/1 [00:24<00:00, 24.21s/it]\n",
      "Pushing dataset shards to the dataset hub: 100%|██████████| 1/1 [00:24<00:00, 24.67s/it]\n"
     ]
    }
   ],
   "source": [
    "create_and_upload_dataset_hf()"
   ]
  },
  {
   "attachments": {},
   "cell_type": "markdown",
   "metadata": {},
   "source": [
    "The dataset has been successfully uploaded to the [Hub](https://huggingface.co/datasets/mmenendezg/pneumonia_x_ray). "
   ]
  },
  {
   "attachments": {},
   "cell_type": "markdown",
   "metadata": {},
   "source": [
    "## Images per Classes"
   ]
  },
  {
   "attachments": {},
   "cell_type": "markdown",
   "metadata": {},
   "source": [
    "Finally, lets see if the classes are balanced or not."
   ]
  },
  {
   "cell_type": "code",
   "execution_count": 9,
   "metadata": {},
   "outputs": [],
   "source": [
    "def plot_examples_per_class():\n",
    "    \"\"\"\n",
    "    Plots the distribution of examples per class in the train and test datasets.\n",
    "\n",
    "    The function calculates the count of examples for each class in the train and test datasets,\n",
    "    and then visualizes the distribution using a bar plot.\n",
    "    \"\"\"\n",
    "    count_normal = [0, 0]\n",
    "    count_pneumo = [0, 0]\n",
    "    for _, label in train_ds:\n",
    "        count_normal[label.numpy()] += 1\n",
    "    \n",
    "    for _, label in test_ds:\n",
    "        count_pneumo[label.numpy()] += 1\n",
    "    \n",
    "    counts = {\n",
    "        \"Classes\": [\"Normal\", \"Pneumonia\", \"Normal\", \"Pneumonia\"],\n",
    "        \"Examples\": count_normal + count_pneumo,\n",
    "        \"Set\": [\"Train\", \"Train\", \"Test\", \"Test\"],\n",
    "    }\n",
    "    data = pd.DataFrame.from_dict(counts)\n",
    "    ax = sns.barplot(data, x=\"Examples\", y=\"Set\", hue=\"Classes\", palette=\"magma\")\n",
    "    ax.bar_label(ax.containers[0])\n",
    "    ax.bar_label(ax.containers[1])\n",
    "    plt.show()\n",
    "    "
   ]
  },
  {
   "cell_type": "code",
   "execution_count": 10,
   "metadata": {},
   "outputs": [
    {
     "data": {
      "image/png": "[encoded data removed]",
      "text/plain": [
       "<Figure size 640x480 with 1 Axes>"
      ]
     },
     "metadata": {},
     "output_type": "display_data"
    }
   ],
   "source": [
    "plot_examples_per_class()"
   ]
  },
  {
   "attachments": {},
   "cell_type": "markdown",
   "metadata": {},
   "source": [
    "The classes are unbalanced, specially the training set. Using the `accuracy` metric to evaluate a model trained on this dataset may not be the best option, and a better choice would be to use `recall`, `precision` or `F1-Score` metrics."
   ]
  },
  {
   "attachments": {},
   "cell_type": "markdown",
   "metadata": {},
   "source": [
    "## References"
   ]
  },
  {
   "attachments": {},
   "cell_type": "markdown",
   "metadata": {},
   "source": [
    ">**References**:\n",
    ">\n",
    "> - Kermany, Daniel; Zhang, Kang; Goldbaum, Michael (2018), “Large Dataset of Labeled Optical Coherence Tomography (OCT) and Chest X-Ray Images”, Mendeley Data, V3, doi: 10.17632/rscbjbr9sj.3"
   ]
  }
 ],
 "metadata": {
  "kernelspec": {
   "display_name": ".venv",
   "language": "python",
   "name": "python3"
  },
  "language_info": {
   "codemirror_mode": {
    "name": "ipython",
    "version": 3
   },
   "file_extension": ".py",
   "mimetype": "text/x-python",
   "name": "python",
   "nbconvert_exporter": "python",
   "pygments_lexer": "ipython3",
   "version": "3.10.11"
  },
  "orig_nbformat": 4
 },
 "nbformat": 4,
 "nbformat_minor": 2
}
