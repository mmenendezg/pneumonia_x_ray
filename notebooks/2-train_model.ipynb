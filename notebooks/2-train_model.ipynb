{
 "cells": [
  {
   "attachments": {},
   "cell_type": "markdown",
   "metadata": {},
   "source": [
    "# Training the model"
   ]
  },
  {
   "attachments": {},
   "cell_type": "markdown",
   "metadata": {},
   "source": [
    "This notebook has as goal to train a model to classify `Chest X-Ray` images into `normal` or `pneumonia` classes. \n",
    "\n"
   ]
  },
  {
   "attachments": {},
   "cell_type": "markdown",
   "metadata": {},
   "source": [
    "## Setup"
   ]
  },
  {
   "cell_type": "code",
   "execution_count": 1,
   "metadata": {},
   "outputs": [],
   "source": [
    "import matplotlib.pyplot as plt\n",
    "import seaborn as sns\n",
    "\n",
    "import numpy as np\n",
    "import pandas as pd\n",
    "\n",
    "# TensorFlow\n",
    "import tensorflow as tf\n",
    "from tensorflow import keras\n",
    "from keras import utils, layers, optimizers, callbacks, metrics, Sequential\n",
    "\n",
    "# Hugging Face\n",
    "import datasets\n",
    "from transformers import TFViTForImageClassification, ViTFeatureExtractor"
   ]
  },
  {
   "cell_type": "code",
   "execution_count": 2,
   "metadata": {},
   "outputs": [],
   "source": [
    "DATASET_NAME = \"mmenendezg/pneumonia_x_ray\"\n",
    "MODEL_NAME = \"google/vit-large-patch32-384\"\n",
    "\n",
    "IMG_CLASSES = [\"Normal\", \"Pneumonia\"]\n",
    "BATCH_SIZE = 32\n",
    "SEED = 92\n",
    "AUTOTUNE = tf.data.AUTOTUNE\n"
   ]
  },
  {
   "attachments": {},
   "cell_type": "markdown",
   "metadata": {},
   "source": [
    "## Load the dataset"
   ]
  },
  {
   "cell_type": "code",
   "execution_count": 3,
   "metadata": {},
   "outputs": [],
   "source": [
    "def format_dataset(example: dict):\n",
    "    return example[\"image\"], example[\"label\"]\n",
    "\n",
    "\n",
    "def convert_tf_dataset(dataset: datasets.Dataset, shuffle: bool = False):\n",
    "    tf_dataset = (\n",
    "        dataset.to_tf_dataset(batch_size=1)\n",
    "        .unbatch()\n",
    "        .map(format_dataset, num_parallel_calls=AUTOTUNE)\n",
    "    )\n",
    "    if shuffle:\n",
    "        tf_dataset.shuffle(dataset.num_rows)\n",
    "\n",
    "    tf_dataset = tf_dataset.batch(BATCH_SIZE).prefetch(AUTOTUNE)\n",
    "\n",
    "    return tf_dataset\n",
    "\n",
    "\n",
    "def load_dataset():\n",
    "    pneumonia_dataset = datasets.load_dataset(DATASET_NAME)\n",
    "    train_ds = convert_tf_dataset(pneumonia_dataset[\"train\"], shuffle=True)\n",
    "    valid_ds = convert_tf_dataset(pneumonia_dataset[\"validation\"])\n",
    "    test_ds = convert_tf_dataset(pneumonia_dataset[\"test\"])\n",
    "\n",
    "    return train_ds, valid_ds, test_ds\n"
   ]
  },
  {
   "cell_type": "code",
   "execution_count": 4,
   "metadata": {},
   "outputs": [
    {
     "name": "stderr",
     "output_type": "stream",
     "text": [
      "Found cached dataset parquet (/Users/mmenendezg/.cache/huggingface/datasets/mmenendezg___parquet/mmenendezg--pneumonia_x_ray-052017b06aabdb98/0.0.0/2a3b91fbd88a2c90d1dbbb32b460cf621d31bd5b05b934492fdef7d8d6f236ec)\n"
     ]
    },
    {
     "data": {
      "application/vnd.jupyter.widget-view+json": {
       "model_id": "19e214b26ed54cfe8e9c46d88a857c6f",
       "version_major": 2,
       "version_minor": 0
      },
      "text/plain": [
       "  0%|          | 0/3 [00:00<?, ?it/s]"
      ]
     },
     "metadata": {},
     "output_type": "display_data"
    }
   ],
   "source": [
    "train_ds, valid_ds, test_ds = load_dataset()\n"
   ]
  },
  {
   "attachments": {},
   "cell_type": "markdown",
   "metadata": {},
   "source": [
    "## Train the model"
   ]
  },
  {
   "cell_type": "code",
   "execution_count": 5,
   "metadata": {},
   "outputs": [],
   "source": [
    "# Clear the TensorFlow session\n",
    "tf.keras.backend.clear_session()\n",
    "tf.random.set_seed(SEED)"
   ]
  },
  {
   "cell_type": "code",
   "execution_count": 6,
   "metadata": {},
   "outputs": [
    {
     "name": "stderr",
     "output_type": "stream",
     "text": [
      "/Users/mmenendezg/Developer/Projects/pneumonia-xray/.venv/lib/python3.11/site-packages/transformers/models/vit/feature_extraction_vit.py:28: FutureWarning: The class ViTFeatureExtractor is deprecated and will be removed in version 5 of Transformers. Please use ViTImageProcessor instead.\n",
      "  warnings.warn(\n"
     ]
    },
    {
     "ename": "ImportError",
     "evalue": "\nTFViTForImageClassification requires the TensorFlow library but it was not found in your environment.\nHowever, we were able to find a PyTorch installation. PyTorch classes do not begin\nwith \"TF\", but are otherwise identically named to our TF classes.\nIf you want to use PyTorch, please use those classes instead!\n\nIf you really do want to use TensorFlow, please follow the instructions on the\ninstallation page https://www.tensorflow.org/install that match your environment.\n",
     "output_type": "error",
     "traceback": [
      "\u001b[0;31m---------------------------------------------------------------------------\u001b[0m",
      "\u001b[0;31mImportError\u001b[0m                               Traceback (most recent call last)",
      "Cell \u001b[0;32mIn[6], line 20\u001b[0m\n\u001b[1;32m     18\u001b[0m id2label \u001b[39m=\u001b[39m {\u001b[39mstr\u001b[39m(i): label \u001b[39mfor\u001b[39;00m i, label \u001b[39min\u001b[39;00m \u001b[39menumerate\u001b[39m(IMG_CLASSES)}\n\u001b[1;32m     19\u001b[0m label2id \u001b[39m=\u001b[39m {v: k \u001b[39mfor\u001b[39;00m k, v \u001b[39min\u001b[39;00m id2label\u001b[39m.\u001b[39mitems()}\n\u001b[0;32m---> 20\u001b[0m vit_model \u001b[39m=\u001b[39m TFViTForImageClassification\u001b[39m.\u001b[39;49mfrom_pretrained(\n\u001b[1;32m     21\u001b[0m     MODEL_NAME, num_labels\u001b[39m=\u001b[39m\u001b[39mlen\u001b[39m(IMG_CLASSES), id2label\u001b[39m=\u001b[39mid2label, label2id\u001b[39m=\u001b[39mlabel2id\n\u001b[1;32m     22\u001b[0m )\n",
      "File \u001b[0;32m~/Developer/Projects/pneumonia-xray/.venv/lib/python3.11/site-packages/transformers/utils/import_utils.py:1024\u001b[0m, in \u001b[0;36mDummyObject.__getattribute__\u001b[0;34m(cls, key)\u001b[0m\n\u001b[1;32m   1022\u001b[0m \u001b[39mif\u001b[39;00m key\u001b[39m.\u001b[39mstartswith(\u001b[39m\"\u001b[39m\u001b[39m_\u001b[39m\u001b[39m\"\u001b[39m) \u001b[39mand\u001b[39;00m key \u001b[39m!=\u001b[39m \u001b[39m\"\u001b[39m\u001b[39m_from_config\u001b[39m\u001b[39m\"\u001b[39m:\n\u001b[1;32m   1023\u001b[0m     \u001b[39mreturn\u001b[39;00m \u001b[39msuper\u001b[39m()\u001b[39m.\u001b[39m\u001b[39m__getattribute__\u001b[39m(key)\n\u001b[0;32m-> 1024\u001b[0m requires_backends(\u001b[39mcls\u001b[39;49m, \u001b[39mcls\u001b[39;49m\u001b[39m.\u001b[39;49m_backends)\n",
      "File \u001b[0;32m~/Developer/Projects/pneumonia-xray/.venv/lib/python3.11/site-packages/transformers/utils/import_utils.py:1007\u001b[0m, in \u001b[0;36mrequires_backends\u001b[0;34m(obj, backends)\u001b[0m\n\u001b[1;32m   1005\u001b[0m \u001b[39m# Raise the inverse error for PyTorch users trying to load TF classes\u001b[39;00m\n\u001b[1;32m   1006\u001b[0m \u001b[39mif\u001b[39;00m \u001b[39m\"\u001b[39m\u001b[39mtf\u001b[39m\u001b[39m\"\u001b[39m \u001b[39min\u001b[39;00m backends \u001b[39mand\u001b[39;00m \u001b[39m\"\u001b[39m\u001b[39mtorch\u001b[39m\u001b[39m\"\u001b[39m \u001b[39mnot\u001b[39;00m \u001b[39min\u001b[39;00m backends \u001b[39mand\u001b[39;00m is_torch_available() \u001b[39mand\u001b[39;00m \u001b[39mnot\u001b[39;00m is_tf_available():\n\u001b[0;32m-> 1007\u001b[0m     \u001b[39mraise\u001b[39;00m \u001b[39mImportError\u001b[39;00m(TF_IMPORT_ERROR_WITH_PYTORCH\u001b[39m.\u001b[39mformat(name))\n\u001b[1;32m   1009\u001b[0m checks \u001b[39m=\u001b[39m (BACKENDS_MAPPING[backend] \u001b[39mfor\u001b[39;00m backend \u001b[39min\u001b[39;00m backends)\n\u001b[1;32m   1010\u001b[0m failed \u001b[39m=\u001b[39m [msg\u001b[39m.\u001b[39mformat(name) \u001b[39mfor\u001b[39;00m available, msg \u001b[39min\u001b[39;00m checks \u001b[39mif\u001b[39;00m \u001b[39mnot\u001b[39;00m available()]\n",
      "\u001b[0;31mImportError\u001b[0m: \nTFViTForImageClassification requires the TensorFlow library but it was not found in your environment.\nHowever, we were able to find a PyTorch installation. PyTorch classes do not begin\nwith \"TF\", but are otherwise identically named to our TF classes.\nIf you want to use PyTorch, please use those classes instead!\n\nIf you really do want to use TensorFlow, please follow the instructions on the\ninstallation page https://www.tensorflow.org/install that match your environment.\n"
     ]
    }
   ],
   "source": [
    "feature_extractor = ViTFeatureExtractor.from_pretrained(MODEL_NAME)\n",
    "\n",
    "data_augmentator = Sequential(\n",
    "    [\n",
    "        layers.Resizing(\n",
    "            feature_extractor.size[\"height\"],\n",
    "            feature_extractor.size[\"width\"],\n",
    "            interpolation=\"nearest\",\n",
    "        ),\n",
    "        layers.Rescaling(scale=1.0 / 255.0),\n",
    "        layers.RandomFlip(mode=\"horizontal\"),\n",
    "        layers.RandomRotation(factor=0.2),\n",
    "        layers.RandomZoom(height_factor=0.2, width_factor=0.2),\n",
    "    ]\n",
    ")\n",
    "\n",
    "# Load the pretrained model\n",
    "id2label = {str(i): label for i, label in enumerate(IMG_CLASSES)}\n",
    "label2id = {v: k for k, v in id2label.items()}\n",
    "vit_model = TFViTForImageClassification.from_pretrained(\n",
    "    MODEL_NAME, num_labels=len(IMG_CLASSES), id2label=id2label, label2id=label2id\n",
    ")\n"
   ]
  },
  {
   "cell_type": "code",
   "execution_count": null,
   "metadata": {},
   "outputs": [],
   "source": [
    "label2id"
   ]
  },
  {
   "cell_type": "code",
   "execution_count": null,
   "metadata": {},
   "outputs": [],
   "source": []
  },
  {
   "cell_type": "code",
   "execution_count": null,
   "metadata": {},
   "outputs": [],
   "source": []
  }
 ],
 "metadata": {
  "kernelspec": {
   "display_name": ".venv",
   "language": "python",
   "name": "python3"
  },
  "language_info": {
   "codemirror_mode": {
    "name": "ipython",
    "version": 3
   },
   "file_extension": ".py",
   "mimetype": "text/x-python",
   "name": "python",
   "nbconvert_exporter": "python",
   "pygments_lexer": "ipython3",
   "version": "3.11.3"
  },
  "orig_nbformat": 4
 },
 "nbformat": 4,
 "nbformat_minor": 2
}
