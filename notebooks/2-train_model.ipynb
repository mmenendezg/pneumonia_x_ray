{
 "cells": [
  {
   "attachments": {},
   "cell_type": "markdown",
   "metadata": {},
   "source": [
    "# Training the model"
   ]
  },
  {
   "attachments": {},
   "cell_type": "markdown",
   "metadata": {},
   "source": [
    "This notebook has as goal to train a model to classify `Chest X-Ray` images into `normal` or `pneumonia` classes. \n",
    "\n"
   ]
  },
  {
   "attachments": {},
   "cell_type": "markdown",
   "metadata": {},
   "source": [
    "## Setup"
   ]
  },
  {
   "cell_type": "code",
   "execution_count": 1,
   "metadata": {},
   "outputs": [
    {
     "name": "stderr",
     "output_type": "stream",
     "text": [
      "/Users/mmenendezg/Developer/Projects/pneumonia-xray/.venv/lib/python3.10/site-packages/tqdm/auto.py:21: TqdmWarning: IProgress not found. Please update jupyter and ipywidgets. See https://ipywidgets.readthedocs.io/en/stable/user_install.html\n",
      "  from .autonotebook import tqdm as notebook_tqdm\n"
     ]
    }
   ],
   "source": [
    "import matplotlib.pyplot as plt\n",
    "import seaborn as sns\n",
    "\n",
    "import numpy as np\n",
    "import pandas as pd\n",
    "\n",
    "# TensorFlow\n",
    "import tensorflow as tf\n",
    "from tensorflow import keras\n",
    "from keras import utils, layers, optimizers, callbacks, metrics\n",
    "\n",
    "# Hugging Face\n",
    "import datasets"
   ]
  },
  {
   "cell_type": "code",
   "execution_count": 60,
   "metadata": {},
   "outputs": [],
   "source": [
    "DATASET_NAME = \"mmenendezg/pneumonia_x_ray\"\n",
    "MODEL_NAME = \n",
    "\n",
    "BATCH_SIZE = 32\n",
    "SEED = 92\n",
    "AUTOTUNE = tf.data.AUTOTUNE"
   ]
  },
  {
   "attachments": {},
   "cell_type": "markdown",
   "metadata": {},
   "source": [
    "## Load the dataset"
   ]
  },
  {
   "cell_type": "code",
   "execution_count": 34,
   "metadata": {},
   "outputs": [],
   "source": [
    "def format_dataset(example: dict):\n",
    "    return example[\"image\"], example[\"label\"]\n",
    "\n",
    "\n",
    "def convert_tf_dataset(dataset: datasets.Dataset, shuffle: bool = False):\n",
    "    tf_dataset = (\n",
    "        dataset.to_tf_dataset(batch_size=1)\n",
    "        .unbatch()\n",
    "        .map(format_dataset, num_parallel_calls=AUTOTUNE)\n",
    "    )\n",
    "    if shuffle:\n",
    "        tf_dataset.shuffle(dataset.num_rows)\n",
    "\n",
    "    tf_dataset = tf_dataset.batch(BATCH_SIZE).prefetch(AUTOTUNE)\n",
    "\n",
    "    return tf_dataset\n",
    "\n",
    "\n",
    "def load_dataset():\n",
    "    pneumonia_dataset = datasets.load_dataset(DATASET_NAME)\n",
    "    train_ds = convert_tf_dataset(pneumonia_dataset[\"train\"], shuffle=True)\n",
    "    valid_ds = convert_tf_dataset(pneumonia_dataset[\"validation\"])\n",
    "    test_ds = convert_tf_dataset(pneumonia_dataset[\"test\"])\n",
    "\n",
    "    return train_ds, valid_ds, test_ds\n"
   ]
  },
  {
   "cell_type": "code",
   "execution_count": 58,
   "metadata": {},
   "outputs": [
    {
     "name": "stderr",
     "output_type": "stream",
     "text": [
      "Found cached dataset parquet (/Users/mmenendezg/.cache/huggingface/datasets/mmenendezg___parquet/mmenendezg--pneumonia_x_ray-052017b06aabdb98/0.0.0/2a3b91fbd88a2c90d1dbbb32b460cf621d31bd5b05b934492fdef7d8d6f236ec)\n",
      "100%|██████████| 3/3 [00:00<00:00, 1054.91it/s]\n"
     ]
    }
   ],
   "source": [
    "train_ds, valid_ds, test_ds = load_dataset()\n"
   ]
  },
  {
   "attachments": {},
   "cell_type": "markdown",
   "metadata": {},
   "source": [
    "## Train the model"
   ]
  },
  {
   "cell_type": "code",
   "execution_count": 61,
   "metadata": {},
   "outputs": [],
   "source": [
    "# Clear the TensorFlow session\n",
    "tf.keras.backend.clear_session()\n",
    "tf.random.set_seed(SEED)"
   ]
  },
  {
   "cell_type": "code",
   "execution_count": null,
   "metadata": {},
   "outputs": [],
   "source": []
  }
 ],
 "metadata": {
  "kernelspec": {
   "display_name": ".venv",
   "language": "python",
   "name": "python3"
  },
  "language_info": {
   "codemirror_mode": {
    "name": "ipython",
    "version": 3
   },
   "file_extension": ".py",
   "mimetype": "text/x-python",
   "name": "python",
   "nbconvert_exporter": "python",
   "pygments_lexer": "ipython3",
   "version": "3.10.11"
  },
  "orig_nbformat": 4
 },
 "nbformat": 4,
 "nbformat_minor": 2
}
